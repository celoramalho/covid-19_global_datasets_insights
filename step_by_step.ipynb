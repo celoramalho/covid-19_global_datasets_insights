{
 "cells": [
  {
   "cell_type": "code",
   "execution_count": null,
   "id": "3dcbe1e7",
   "metadata": {
    "vscode": {
     "languageId": "plaintext"
    }
   },
   "outputs": [],
   "source": [
    "import os\n",
    "os.environ['KAGGLE_USERNAME'] = 'seu_username'\n",
    "os.environ['KAGGLE_KEY'] = 'sua_chave_api'"
   ]
  }
 ],
 "metadata": {
  "language_info": {
   "name": "python"
  }
 },
 "nbformat": 4,
 "nbformat_minor": 5
}
